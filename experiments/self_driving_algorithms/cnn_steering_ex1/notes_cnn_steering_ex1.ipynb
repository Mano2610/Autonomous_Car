{
 "cells": [
  {
   "cell_type": "markdown",
   "id": "challenging-olympus",
   "metadata": {},
   "source": [
    "# CNN for Steering - Experiment 1 #\n",
    "\n",
    "In this experiment we explored the performance of the **NVIDIA proposed End to End CNN model** for learning steering. \n",
    "\n",
    "Created on Sun Mar  7 20:08:24 2021\n",
    "\n",
    "@author: \n",
    "Kevin Machado Gamboa\n",
    "Group Project Team 6\n",
    "\n",
    "Last modified:\n",
    "\n",
    "\n",
    "## References:\n",
    "    \n",
    "1. **End to End Learning for Self-Driving Cars**, Karol Zieba, NVIDIA Corporation [link](https://arxiv.org/pdf/1604.07316v1.pdf)\n",
    "    \n",
    "2. **How to Simulate a Self-Driving Car**, Siraj Raval [GitHib link](https://github.com/llSourcell/How_to_simulate_a_self_driving_car/blob/master/model.py)\n",
    "\n",
    "##  Libraries"
   ]
  },
  {
   "cell_type": "code",
   "execution_count": 1,
   "id": "ethical-possibility",
   "metadata": {},
   "outputs": [],
   "source": [
    "import os\n",
    "import cv2 as cv\n",
    "import pandas as pd\n",
    "import numpy as np\n",
    "from tqdm import tqdm\n",
    "from PIL import Image\n",
    "from pathlib import Path\n",
    "import matplotlib.pyplot as plt\n",
    "\n",
    "from sklearn.model_selection import train_test_split"
   ]
  },
  {
   "cell_type": "markdown",
   "id": "genuine-athens",
   "metadata": {},
   "source": [
    "Configuring Tensorflow GPU"
   ]
  },
  {
   "cell_type": "code",
   "execution_count": 2,
   "id": "planned-victoria",
   "metadata": {},
   "outputs": [
    {
     "name": "stdout",
     "output_type": "stream",
     "text": [
      "1 Physical GPUs, 1 Logical GPUs\n"
     ]
    }
   ],
   "source": [
    "import tensorflow as tf\n",
    "\n",
    "gpus = tf.config.list_physical_devices('GPU')\n",
    "\n",
    "if gpus:\n",
    "  try:\n",
    "    # Currently, memory growth needs to be the same across GPUs\n",
    "    for gpu in gpus:\n",
    "      tf.config.experimental.set_memory_growth(gpu, True)\n",
    "    logical_gpus = tf.config.experimental.list_logical_devices('GPU')\n",
    "    print(len(gpus), \"Physical GPUs,\", len(logical_gpus), \"Logical GPUs\")\n",
    "  except RuntimeError as e:\n",
    "    # Memory growth must be set before GPUs have been initialized\n",
    "    print(e)\n",
    "    \n",
    "from tensorflow.keras.layers import Conv2D, MaxPooling2D, Dropout, Dense, Flatten"
   ]
  },
  {
   "cell_type": "markdown",
   "id": "referenced-flashing",
   "metadata": {},
   "source": [
    "Developed Functions"
   ]
  },
  {
   "cell_type": "code",
   "execution_count": 3,
   "id": "emotional-armenia",
   "metadata": {},
   "outputs": [],
   "source": [
    "def plot_steering(x):\n",
    "    \n",
    "    fig, ax = plt.subplots(figsize=(15,3))\n",
    "    # adding circunference\n",
    "    ax.plot(np.linspace(-1,1,50), np.sqrt(1 - np.linspace(-1,1,50)**2))\n",
    "    # adding steering value\n",
    "    ax.scatter(x, np.sqrt(1-x**2), c='r', s= 300, marker=\"o\", alpha=0.5)\n",
    "    \n",
    "    ax.axvline(ls='--',c='grey', lw=1)\n",
    "    \n",
    "    ax.set(title= 'Steering Output Visualization', xlabel= 'normaliza values')\n",
    "    ax.annotate('Right', xy=(0.2, 0.4), fontsize=50)\n",
    "    ax.annotate('Left', xy=(-0.5, 0.4), fontsize=50)\n",
    "    \n",
    "    fig.show()\n",
    "\n",
    "def transform_im(im, newsize):\n",
    "    small_img = cv.resize(im, newsize)\n",
    "    small_img = np.array(small_img)\n",
    "    small_img = small_img[None, :, :, :]\n",
    "    return(small_img)\n",
    "\n",
    "def normalize(x, mi, ma):\n",
    "    return (x-mi)/(ma-mi)\n",
    "\n",
    "def re_scale(x, mi, ma):\n",
    "    return x * (ma-mi) + mi"
   ]
  },
  {
   "cell_type": "markdown",
   "id": "static-coordinator",
   "metadata": {},
   "source": [
    "## 1.Data Loading"
   ]
  },
  {
   "cell_type": "code",
   "execution_count": 4,
   "id": "reported-affairs",
   "metadata": {},
   "outputs": [
    {
     "name": "stderr",
     "output_type": "stream",
     "text": [
      "255it [00:23, 11.07it/s]\n"
     ]
    }
   ],
   "source": [
    "# Loading Labels\n",
    "data_ann_path = '../../../data'\n",
    "data_out = pd.read_csv(data_ann_path + '/_controls.csv')\n",
    "y = data_out.steer\n",
    "\n",
    "# Loading Images\n",
    "im_path = os.path.abspath('..\\..\\..\\data\\lane_detection')\n",
    "im_files = os.listdir(im_path)\n",
    "newsize = (300, 300)\n",
    "im_dataset_pil = []\n",
    "X = []\n",
    "for idx, name in tqdm(enumerate(im_files)):\n",
    "    X.append(cv.resize(cv.imread(os.path.join(im_path, name)), newsize, interpolation = cv.INTER_AREA)/127.5-1.0)\n",
    "#   im_dataset_pil.append(Image.open(os.path.join(im_path, name)))\n",
    "#   X.append(np.array(im_dataset_pil[idx].resize(newsize))/127.5-1.0)"
   ]
  },
  {
   "cell_type": "markdown",
   "id": "reliable-persian",
   "metadata": {},
   "source": [
    "### Steering Visualizarion"
   ]
  },
  {
   "cell_type": "code",
   "execution_count": 5,
   "id": "simplified-guitar",
   "metadata": {},
   "outputs": [
    {
     "name": "stderr",
     "output_type": "stream",
     "text": [
      "C:\\Users\\kevin\\Anaconda3\\lib\\site-packages\\ipykernel_launcher.py:15: UserWarning: Matplotlib is currently using module://ipykernel.pylab.backend_inline, which is a non-GUI backend, so cannot show the figure.\n",
      "  from ipykernel import kernelapp as app\n"
     ]
    },
    {
     "data": {
      "image/png": "[encoded data removed]",
      "text/plain": [
       "<Figure size 1080x216 with 1 Axes>"
      ]
     },
     "metadata": {
      "needs_background": "light"
     },
     "output_type": "display_data"
    }
   ],
   "source": [
    "plot_steering(y)"
   ]
  },
  {
   "cell_type": "code",
   "execution_count": 6,
   "id": "single-edmonton",
   "metadata": {},
   "outputs": [],
   "source": [
    "X = np.array(X)\n",
    "mi, ma = min(y), max(y)\n",
    "y = normalize(np.array(y),mi,ma)\n",
    "X_train, X_val, y_train, y_val = train_test_split(X, y, test_size=0.2, random_state=0)"
   ]
  },
  {
   "cell_type": "code",
   "execution_count": 7,
   "id": "choice-advice",
   "metadata": {},
   "outputs": [
    {
     "name": "stdout",
     "output_type": "stream",
     "text": [
      "Input shape: (300, 300, 3)\n"
     ]
    }
   ],
   "source": [
    "input_shape = X_train[0].shape\n",
    "print('Input shape:', input_shape)"
   ]
  },
  {
   "cell_type": "markdown",
   "id": "common-transport",
   "metadata": {},
   "source": [
    "## 2. Model Development"
   ]
  },
  {
   "cell_type": "code",
   "execution_count": 8,
   "id": "signed-standard",
   "metadata": {},
   "outputs": [
    {
     "name": "stdout",
     "output_type": "stream",
     "text": [
      "Model: \"sequential\"\n",
      "_________________________________________________________________\n",
      "Layer (type)                 Output Shape              Param #   \n",
      "=================================================================\n",
      "conv2d (Conv2D)              (None, 60, 60, 24)        1824      \n",
      "_________________________________________________________________\n",
      "conv2d_1 (Conv2D)            (None, 12, 12, 36)        21636     \n",
      "_________________________________________________________________\n",
      "conv2d_2 (Conv2D)            (None, 3, 3, 48)          43248     \n",
      "_________________________________________________________________\n",
      "conv2d_3 (Conv2D)            (None, 1, 1, 64)          27712     \n",
      "_________________________________________________________________\n",
      "conv2d_4 (Conv2D)            (None, 1, 1, 64)          36928     \n",
      "_________________________________________________________________\n",
      "dropout (Dropout)            (None, 1, 1, 64)          0         \n",
      "_________________________________________________________________\n",
      "flatten (Flatten)            (None, 64)                0         \n",
      "_________________________________________________________________\n",
      "dense (Dense)                (None, 100)               6500      \n",
      "_________________________________________________________________\n",
      "dense_1 (Dense)              (None, 50)                5050      \n",
      "_________________________________________________________________\n",
      "dense_2 (Dense)              (None, 10)                510       \n",
      "_________________________________________________________________\n",
      "dense_3 (Dense)              (None, 1)                 11        \n",
      "=================================================================\n",
      "Total params: 143,419\n",
      "Trainable params: 143,419\n",
      "Non-trainable params: 0\n",
      "_________________________________________________________________\n"
     ]
    }
   ],
   "source": [
    "def model_steering():\n",
    "  model = tf.keras.Sequential([\n",
    "    Conv2D(24, 5, 5, activation='elu', padding='same', input_shape=input_shape),\n",
    "    Conv2D(36, 5, 5, activation='elu', padding='same'),\n",
    "    Conv2D(48, 5, 5, activation='elu', padding='same'),\n",
    "    Conv2D(64, 3, 3, activation='elu', padding='same'),\n",
    "    Conv2D(64, 3, 3, activation='elu', padding='same'),\n",
    "    Dropout(0.5),\n",
    "    Flatten(),\n",
    "    Dense(100, activation='elu'),\n",
    "    Dense(50, activation='elu'),\n",
    "    Dense(10, activation='elu'),\n",
    "    Dense(1)\n",
    "  ])\n",
    "  # Model Parameters\n",
    "  optimus = tf.keras.optimizers.Adam(lr=1.0e-5)\n",
    "  model.compile(optimizer=optimus,\n",
    "                loss='mse')\n",
    "  return model\n",
    "\n",
    "model = model_steering()\n",
    "model.summary()"
   ]
  },
  {
   "cell_type": "code",
   "execution_count": 9,
   "id": "saving-white",
   "metadata": {},
   "outputs": [
    {
     "name": "stdout",
     "output_type": "stream",
     "text": [
      "Epoch 1/600\n",
      "5/5 [==============================] - 11s 642ms/step - loss: 0.0888 - val_loss: 0.0962\n",
      "Epoch 2/600\n",
      "5/5 [==============================] - 1s 116ms/step - loss: 0.0847 - val_loss: 0.0869\n",
      "Epoch 3/600\n",
      "5/5 [==============================] - 1s 113ms/step - loss: 0.0744 - val_loss: 0.0785\n",
      "Epoch 4/600\n",
      "5/5 [==============================] - 1s 117ms/step - loss: 0.0668 - val_loss: 0.0709\n",
      "Epoch 5/600\n",
      "5/5 [==============================] - 1s 112ms/step - loss: 0.0657 - val_loss: 0.0639\n",
      "Epoch 6/600\n",
      "5/5 [==============================] - 1s 119ms/step - loss: 0.0576 - val_loss: 0.0579\n",
      "Epoch 7/600\n",
      "5/5 [==============================] - 1s 124ms/step - loss: 0.0634 - val_loss: 0.0526\n",
      "Epoch 8/600\n",
      "5/5 [==============================] - 1s 113ms/step - loss: 0.0513 - val_loss: 0.0480\n",
      "Epoch 9/600\n",
      "5/5 [==============================] - 1s 161ms/step - loss: 0.0467 - val_loss: 0.0437\n",
      "Epoch 10/600\n",
      "5/5 [==============================] - 1s 113ms/step - loss: 0.0432 - val_loss: 0.0400\n",
      "Epoch 11/600\n",
      "5/5 [==============================] - 1s 113ms/step - loss: 0.0427 - val_loss: 0.0367\n",
      "Epoch 12/600\n",
      "5/5 [==============================] - 1s 112ms/step - loss: 0.0403 - val_loss: 0.0336\n",
      "Epoch 13/600\n",
      "5/5 [==============================] - 1s 112ms/step - loss: 0.0360 - val_loss: 0.0310\n",
      "Epoch 14/600\n",
      "5/5 [==============================] - 1s 127ms/step - loss: 0.0348 - val_loss: 0.0287\n",
      "Epoch 15/600\n",
      "5/5 [==============================] - 1s 118ms/step - loss: 0.0275 - val_loss: 0.0268\n",
      "Epoch 16/600\n",
      "5/5 [==============================] - 1s 128ms/step - loss: 0.0283 - val_loss: 0.0250\n",
      "Epoch 17/600\n",
      "5/5 [==============================] - 1s 115ms/step - loss: 0.0303 - val_loss: 0.0235\n",
      "Epoch 18/600\n",
      "5/5 [==============================] - 1s 127ms/step - loss: 0.0294 - val_loss: 0.0223\n",
      "Epoch 19/600\n",
      "5/5 [==============================] - 1s 115ms/step - loss: 0.0251 - val_loss: 0.0214\n",
      "Epoch 20/600\n",
      "5/5 [==============================] - 1s 116ms/step - loss: 0.0300 - val_loss: 0.0206\n",
      "Epoch 21/600\n",
      "5/5 [==============================] - 1s 113ms/step - loss: 0.0305 - val_loss: 0.0199\n",
      "Epoch 22/600\n",
      "5/5 [==============================] - 1s 120ms/step - loss: 0.0243 - val_loss: 0.0192\n",
      "Epoch 23/600\n",
      "5/5 [==============================] - 1s 112ms/step - loss: 0.0247 - val_loss: 0.0187\n",
      "Epoch 24/600\n",
      "5/5 [==============================] - 1s 122ms/step - loss: 0.0256 - val_loss: 0.0181\n",
      "Epoch 25/600\n",
      "5/5 [==============================] - 1s 133ms/step - loss: 0.0265 - val_loss: 0.0176\n",
      "Epoch 26/600\n",
      "5/5 [==============================] - 1s 116ms/step - loss: 0.0239 - val_loss: 0.0172\n",
      "Epoch 27/600\n",
      "5/5 [==============================] - 1s 112ms/step - loss: 0.0243 - val_loss: 0.0169\n",
      "Epoch 28/600\n",
      "5/5 [==============================] - 1s 112ms/step - loss: 0.0241 - val_loss: 0.0166\n",
      "Epoch 29/600\n",
      "5/5 [==============================] - 1s 114ms/step - loss: 0.0210 - val_loss: 0.0164\n",
      "Epoch 30/600\n",
      "5/5 [==============================] - 1s 117ms/step - loss: 0.0233 - val_loss: 0.0162\n",
      "Epoch 31/600\n",
      "5/5 [==============================] - 1s 120ms/step - loss: 0.0199 - val_loss: 0.0160\n",
      "Epoch 32/600\n",
      "5/5 [==============================] - 1s 116ms/step - loss: 0.0210 - val_loss: 0.0158\n",
      "Epoch 33/600\n",
      "5/5 [==============================] - 1s 113ms/step - loss: 0.0191 - val_loss: 0.0156\n",
      "Epoch 34/600\n",
      "5/5 [==============================] - 1s 116ms/step - loss: 0.0209 - val_loss: 0.0154\n",
      "Epoch 35/600\n",
      "5/5 [==============================] - 1s 129ms/step - loss: 0.0229 - val_loss: 0.0152\n",
      "Epoch 36/600\n",
      "5/5 [==============================] - 1s 112ms/step - loss: 0.0197 - val_loss: 0.0151\n",
      "Epoch 37/600\n",
      "5/5 [==============================] - 1s 111ms/step - loss: 0.0203 - val_loss: 0.0150\n",
      "Epoch 38/600\n",
      "5/5 [==============================] - 1s 113ms/step - loss: 0.0235 - val_loss: 0.0149\n",
      "Epoch 39/600\n",
      "5/5 [==============================] - 1s 112ms/step - loss: 0.0198 - val_loss: 0.0148\n",
      "Epoch 40/600\n",
      "5/5 [==============================] - 1s 116ms/step - loss: 0.0221 - val_loss: 0.0146\n",
      "Epoch 41/600\n",
      "5/5 [==============================] - 1s 160ms/step - loss: 0.0191 - val_loss: 0.0145\n",
      "Epoch 42/600\n",
      "5/5 [==============================] - 1s 117ms/step - loss: 0.0223 - val_loss: 0.0144\n",
      "Epoch 43/600\n",
      "5/5 [==============================] - 1s 114ms/step - loss: 0.0169 - val_loss: 0.0143\n",
      "Epoch 44/600\n",
      "5/5 [==============================] - 1s 111ms/step - loss: 0.0170 - val_loss: 0.0142\n",
      "Epoch 45/600\n",
      "5/5 [==============================] - 1s 110ms/step - loss: 0.0179 - val_loss: 0.0140\n",
      "Epoch 46/600\n",
      "5/5 [==============================] - 1s 112ms/step - loss: 0.0154 - val_loss: 0.0138\n",
      "Epoch 47/600\n",
      "5/5 [==============================] - 1s 126ms/step - loss: 0.0174 - val_loss: 0.0137\n",
      "Epoch 48/600\n",
      "5/5 [==============================] - 1s 128ms/step - loss: 0.0166 - val_loss: 0.0137\n",
      "Epoch 49/600\n",
      "5/5 [==============================] - 1s 111ms/step - loss: 0.0179 - val_loss: 0.0136\n",
      "Epoch 50/600\n",
      "5/5 [==============================] - 1s 116ms/step - loss: 0.0184 - val_loss: 0.0136\n",
      "Epoch 51/600\n",
      "5/5 [==============================] - 1s 115ms/step - loss: 0.0190 - val_loss: 0.0135\n",
      "Epoch 52/600\n",
      "5/5 [==============================] - 1s 117ms/step - loss: 0.0156 - val_loss: 0.0134\n",
      "Epoch 53/600\n",
      "5/5 [==============================] - 1s 130ms/step - loss: 0.0159 - val_loss: 0.0134\n",
      "Epoch 54/600\n",
      "5/5 [==============================] - 1s 119ms/step - loss: 0.0151 - val_loss: 0.0134\n",
      "Epoch 55/600\n",
      "5/5 [==============================] - 1s 117ms/step - loss: 0.0161 - val_loss: 0.0133\n",
      "Epoch 56/600\n",
      "5/5 [==============================] - 1s 127ms/step - loss: 0.0167 - val_loss: 0.0133\n",
      "Epoch 57/600\n",
      "5/5 [==============================] - 1s 114ms/step - loss: 0.0127 - val_loss: 0.0132\n",
      "Epoch 58/600\n",
      "5/5 [==============================] - 1s 111ms/step - loss: 0.0140 - val_loss: 0.0131\n",
      "Epoch 59/600\n",
      "5/5 [==============================] - 1s 121ms/step - loss: 0.0145 - val_loss: 0.0131\n",
      "Epoch 60/600\n",
      "5/5 [==============================] - 1s 121ms/step - loss: 0.0133 - val_loss: 0.0130\n",
      "Epoch 61/600\n",
      "5/5 [==============================] - 1s 119ms/step - loss: 0.0138 - val_loss: 0.0131\n",
      "Epoch 62/600\n",
      "5/5 [==============================] - 1s 118ms/step - loss: 0.0141 - val_loss: 0.0131\n",
      "Epoch 63/600\n",
      "5/5 [==============================] - 1s 119ms/step - loss: 0.0156 - val_loss: 0.0131\n",
      "Epoch 64/600\n",
      "5/5 [==============================] - 1s 113ms/step - loss: 0.0128 - val_loss: 0.0131\n",
      "Epoch 65/600\n",
      "5/5 [==============================] - 1s 109ms/step - loss: 0.0153 - val_loss: 0.0131\n"
     ]
    }
   ],
   "source": [
    "checkpoint_path = 'saved_model/'\n",
    "early_stop = tf.keras.callbacks.EarlyStopping(monitor='val_loss', patience=5)\n",
    "checkpoint = tf.keras.callbacks.ModelCheckpoint(filepath=checkpoint_path+'model-{epoch:03d}.h5',\n",
    "                                 monitor='val_loss',\n",
    "                                 verbose=0,\n",
    "                                 save_best_only=True,\n",
    "                                 mode='auto')\n",
    "X_train, X_val, y_train, y_val\n",
    "history_1 = model.fit(X_train, y_train, epochs=600, batch_size=50, validation_data=(X_val, y_val), callbacks = [early_stop, checkpoint])"
   ]
  },
  {
   "cell_type": "code",
   "execution_count": 11,
   "id": "informed-scale",
   "metadata": {},
   "outputs": [
    {
     "name": "stderr",
     "output_type": "stream",
     "text": [
      "C:\\Users\\kevin\\Anaconda3\\lib\\site-packages\\ipykernel_launcher.py:15: UserWarning: Matplotlib is currently using module://ipykernel.pylab.backend_inline, which is a non-GUI backend, so cannot show the figure.\n",
      "  from ipykernel import kernelapp as app\n"
     ]
    },
    {
     "data": {
      "image/png": "[encoded data removed]",
      "text/plain": [
       "<Figure size 1080x216 with 1 Axes>"
      ]
     },
     "metadata": {
      "needs_background": "light"
     },
     "output_type": "display_data"
    }
   ],
   "source": [
    "plot_steering(re_scale(model.predict(X), mi, ma))"
   ]
  },
  {
   "cell_type": "code",
   "execution_count": 12,
   "id": "confidential-clock",
   "metadata": {},
   "outputs": [],
   "source": [
    "model.save('Nvidia_based_model.h5')"
   ]
  }
 ],
 "metadata": {
  "kernelspec": {
   "display_name": "Python 3",
   "language": "python",
   "name": "python3"
  },
  "language_info": {
   "codemirror_mode": {
    "name": "ipython",
    "version": 3
   },
   "file_extension": ".py",
   "mimetype": "text/x-python",
   "name": "python",
   "nbconvert_exporter": "python",
   "pygments_lexer": "ipython3",
   "version": "3.7.6"
  }
 },
 "nbformat": 4,
 "nbformat_minor": 5
}
