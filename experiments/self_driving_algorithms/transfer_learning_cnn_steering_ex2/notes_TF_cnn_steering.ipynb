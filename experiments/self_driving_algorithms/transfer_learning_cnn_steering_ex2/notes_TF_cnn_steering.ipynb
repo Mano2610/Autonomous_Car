{
 "cells": [
  {
   "cell_type": "markdown",
   "id": "compressed-possession",
   "metadata": {},
   "source": [
    "# Transfering Lane Detection Learning To Steering With CNN - Experiment 1 #\n",
    "\n",
    "In this experiment we performed transfer learning from a lane detection CNN model to learning steering. \n",
    "\n",
    "Created: Tue Mar  9 23:07:04 2021\n",
    "\n",
    "Last modified:\n",
    "\n",
    "@author: \n",
    "Kevin Machado Gamboa\n",
    "\n",
    "CE903 - Group Project Team 6\n",
    "\n",
    "University of Essex\n",
    "\n",
    "\n",
    "\n",
    "\n",
    "## References:\n",
    "    \n",
    "1. \n",
    "\n",
    "##  Libraries"
   ]
  },
  {
   "cell_type": "code",
   "execution_count": 1,
   "id": "mathematical-advantage",
   "metadata": {},
   "outputs": [],
   "source": [
    "import os\n",
    "import cv2 as cv\n",
    "import numpy as np\n",
    "import pandas as pd\n",
    "from PIL import Image\n",
    "from tqdm import tqdm\n",
    "import matplotlib.pyplot as plt\n",
    "\n",
    "from sklearn.model_selection import train_test_split"
   ]
  },
  {
   "cell_type": "markdown",
   "id": "going-officer",
   "metadata": {},
   "source": [
    "**IF GPU Available** - Configuring Tensorflow GPU"
   ]
  },
  {
   "cell_type": "code",
   "execution_count": 2,
   "id": "southern-nomination",
   "metadata": {},
   "outputs": [
    {
     "name": "stdout",
     "output_type": "stream",
     "text": [
      "1 Physical GPUs, 1 Logical GPUs\n"
     ]
    }
   ],
   "source": [
    "import tensorflow as tf\n",
    "\n",
    "gpus = tf.config.list_physical_devices('GPU')\n",
    "\n",
    "if gpus:\n",
    "  try:\n",
    "    # Currently, memory growth needs to be the same across GPUs\n",
    "    for gpu in gpus:\n",
    "      tf.config.experimental.set_memory_growth(gpu, True)\n",
    "    logical_gpus = tf.config.experimental.list_logical_devices('GPU')\n",
    "    print(len(gpus), \"Physical GPUs,\", len(logical_gpus), \"Logical GPUs\")\n",
    "  except RuntimeError as e:\n",
    "    # Memory growth must be set before GPUs have been initialized\n",
    "    print(e)\n",
    "    \n",
    "from tensorflow.keras.models import load_model\n",
    "from tensorflow.keras.layers import Dense, Flatten"
   ]
  },
  {
   "cell_type": "markdown",
   "id": "governing-calibration",
   "metadata": {},
   "source": [
    "Developed Functions"
   ]
  },
  {
   "cell_type": "code",
   "execution_count": 3,
   "id": "lined-induction",
   "metadata": {},
   "outputs": [],
   "source": [
    "def plot_steering(x):\n",
    "    \n",
    "    fig, ax = plt.subplots(figsize=(15,3))\n",
    "    # adding circunference\n",
    "    ax.plot(np.linspace(-1,1,50), np.sqrt(1 - np.linspace(-1,1,50)**2))\n",
    "    # adding steering value\n",
    "    ax.scatter(x, np.sqrt(1-x**2), c='r', s= 300, marker=\"o\", alpha=0.5)\n",
    "    \n",
    "    ax.axvline(ls='--',c='grey', lw=1)\n",
    "    \n",
    "    ax.set(title= 'Steering Output Visualization', xlabel= 'normaliza values')\n",
    "    ax.annotate('Right', xy=(0.2, 0.4), fontsize=50)\n",
    "    ax.annotate('Left', xy=(-0.5, 0.4), fontsize=50)\n",
    "    \n",
    "    fig.show()\n",
    "\n",
    "def transform_im(im, newsize):\n",
    "    small_img = cv.resize(im, newsize)\n",
    "    small_img = np.array(small_img)\n",
    "    small_img = small_img[None, :, :, :]\n",
    "    return(small_img)\n",
    "\n",
    "def normalize(x, mi, ma):\n",
    "    return (x-mi)/(ma-mi)\n",
    "\n",
    "def re_scale(x, mi, ma):\n",
    "    return x * (ma-mi) + mi"
   ]
  },
  {
   "cell_type": "markdown",
   "id": "median-contamination",
   "metadata": {},
   "source": [
    "## Data Loading"
   ]
  },
  {
   "cell_type": "code",
   "execution_count": 4,
   "id": "interior-abraham",
   "metadata": {},
   "outputs": [
    {
     "name": "stderr",
     "output_type": "stream",
     "text": [
      "255it [00:18, 13.72it/s]\n"
     ]
    }
   ],
   "source": [
    "# Loading Labels\n",
    "data_ann_path = '../../../data'\n",
    "data_out = pd.read_csv(data_ann_path + '/_controls.csv')\n",
    "y = data_out.steer\n",
    "\n",
    "# Loading Images\n",
    "im_path = os.path.abspath('..\\..\\..\\data\\lane_detection')\n",
    "im_files = os.listdir(im_path)\n",
    "#newsize = (300, 300)\n",
    "newsize = (160, 80)\n",
    "X = []\n",
    "for idx, name in tqdm(enumerate(im_files)):\n",
    "    #X.append(cv.resize(cv.imread(os.path.join(im_path, name)), newsize, interpolation = cv.INTER_AREA)/127.5-1.0)\n",
    "    X.append(cv.normalize(cv.resize(cv.imread(os.path.join(im_path, name)), newsize),\n",
    "             None, alpha=0, beta=1, norm_type=cv.NORM_MINMAX, dtype=cv.CV_32F))\n",
    "#   im_dataset_pil.append(Image.open(os.path.join(im_path, name)))\n",
    "#   X.append(np.array(im_dataset_pil[idx].resize(newsize))/127.5-1.0)"
   ]
  },
  {
   "cell_type": "markdown",
   "id": "breathing-latino",
   "metadata": {},
   "source": [
    "### Data split"
   ]
  },
  {
   "cell_type": "code",
   "execution_count": 5,
   "id": "announced-force",
   "metadata": {},
   "outputs": [],
   "source": [
    "X = np.array(X)\n",
    "mi, ma = min(y), max(y)\n",
    "y = normalize(np.array(y),mi,ma)\n",
    "X_train, X_val, y_train, y_val = train_test_split(X, y, test_size=0.2, random_state=0)"
   ]
  },
  {
   "cell_type": "code",
   "execution_count": 6,
   "id": "essential-klein",
   "metadata": {},
   "outputs": [
    {
     "name": "stdout",
     "output_type": "stream",
     "text": [
      "Shape of training dataset: (204, 80, 160, 3)\n"
     ]
    }
   ],
   "source": [
    "print('Shape of training dataset:', np.shape(X_train))"
   ]
  },
  {
   "cell_type": "code",
   "execution_count": 7,
   "id": "interim-cement",
   "metadata": {},
   "outputs": [],
   "source": [
    "# X_train = np.expand_dims(X_train, axis=0)\n",
    "# X_val = np.expand_dims(X_val, axis=0)"
   ]
  },
  {
   "cell_type": "code",
   "execution_count": 8,
   "id": "growing-aspect",
   "metadata": {},
   "outputs": [
    {
     "name": "stdout",
     "output_type": "stream",
     "text": [
      "Input shape: KerasTensor(type_spec=TensorSpec(shape=(None, 80, 160, 3), dtype=tf.float32, name='input_1'), name='input_1', description=\"created by layer 'input_1'\")\n"
     ]
    }
   ],
   "source": [
    "input_shape = tf.keras.layers.Input(shape=X_train[0].shape)\n",
    "print('Input shape:', input_shape)"
   ]
  },
  {
   "cell_type": "markdown",
   "id": "adopted-manner",
   "metadata": {},
   "source": [
    "### Steering Visualization"
   ]
  },
  {
   "cell_type": "code",
   "execution_count": 9,
   "id": "interracial-worcester",
   "metadata": {},
   "outputs": [
    {
     "name": "stderr",
     "output_type": "stream",
     "text": [
      "C:\\Users\\kevin\\Anaconda3\\lib\\site-packages\\ipykernel_launcher.py:15: UserWarning: Matplotlib is currently using module://ipykernel.pylab.backend_inline, which is a non-GUI backend, so cannot show the figure.\n",
      "  from ipykernel import kernelapp as app\n"
     ]
    },
    {
     "data": {
      "image/png": "[encoded data removed]",
      "text/plain": [
       "<Figure size 1080x216 with 1 Axes>"
      ]
     },
     "metadata": {
      "needs_background": "light"
     },
     "output_type": "display_data"
    }
   ],
   "source": [
    "plot_steering(re_scale(y, mi, ma))"
   ]
  },
  {
   "cell_type": "markdown",
   "id": "dress-organ",
   "metadata": {},
   "source": [
    "## Loading the Model"
   ]
  },
  {
   "cell_type": "code",
   "execution_count": 10,
   "id": "indoor-thought",
   "metadata": {
    "scrolled": true
   },
   "outputs": [
    {
     "name": "stdout",
     "output_type": "stream",
     "text": [
      "model input shape: (None, 80, 160, 3)\n",
      "Model: \"sequential\"\n",
      "_________________________________________________________________\n",
      "Layer (type)                 Output Shape              Param #   \n",
      "=================================================================\n",
      "Conv1 (Conv2D)               (None, 78, 158, 8)        224       \n",
      "_________________________________________________________________\n",
      "Conv2 (Conv2D)               (None, 76, 156, 16)       1168      \n",
      "_________________________________________________________________\n",
      "max_pooling2d (MaxPooling2D) (None, 38, 78, 16)        0         \n",
      "_________________________________________________________________\n",
      "Conv3 (Conv2D)               (None, 36, 76, 16)        2320      \n",
      "_________________________________________________________________\n",
      "dropout (Dropout)            (None, 36, 76, 16)        0         \n",
      "_________________________________________________________________\n",
      "Conv4 (Conv2D)               (None, 34, 74, 32)        4640      \n",
      "_________________________________________________________________\n",
      "dropout_1 (Dropout)          (None, 34, 74, 32)        0         \n",
      "_________________________________________________________________\n",
      "Conv5 (Conv2D)               (None, 32, 72, 32)        9248      \n",
      "_________________________________________________________________\n",
      "dropout_2 (Dropout)          (None, 32, 72, 32)        0         \n",
      "_________________________________________________________________\n",
      "max_pooling2d_1 (MaxPooling2 (None, 16, 36, 32)        0         \n",
      "_________________________________________________________________\n",
      "Conv6 (Conv2D)               (None, 14, 34, 64)        18496     \n",
      "_________________________________________________________________\n",
      "dropout_3 (Dropout)          (None, 14, 34, 64)        0         \n",
      "_________________________________________________________________\n",
      "Conv7 (Conv2D)               (None, 12, 32, 64)        36928     \n",
      "_________________________________________________________________\n",
      "dropout_4 (Dropout)          (None, 12, 32, 64)        0         \n",
      "_________________________________________________________________\n",
      "max_pooling2d_2 (MaxPooling2 (None, 6, 16, 64)         0         \n",
      "_________________________________________________________________\n",
      "up_sampling2d (UpSampling2D) (None, 12, 32, 64)        0         \n",
      "_________________________________________________________________\n",
      "Deconv1 (Conv2DTranspose)    (None, 14, 34, 64)        36928     \n",
      "_________________________________________________________________\n",
      "dropout_5 (Dropout)          (None, 14, 34, 64)        0         \n",
      "_________________________________________________________________\n",
      "Deconv2 (Conv2DTranspose)    (None, 16, 36, 64)        36928     \n",
      "_________________________________________________________________\n",
      "dropout_6 (Dropout)          (None, 16, 36, 64)        0         \n",
      "_________________________________________________________________\n",
      "up_sampling2d_1 (UpSampling2 (None, 32, 72, 64)        0         \n",
      "_________________________________________________________________\n",
      "Deconv3 (Conv2DTranspose)    (None, 34, 74, 32)        18464     \n",
      "_________________________________________________________________\n",
      "dropout_7 (Dropout)          (None, 34, 74, 32)        0         \n",
      "_________________________________________________________________\n",
      "Deconv4 (Conv2DTranspose)    (None, 36, 76, 32)        9248      \n",
      "_________________________________________________________________\n",
      "dropout_8 (Dropout)          (None, 36, 76, 32)        0         \n",
      "_________________________________________________________________\n",
      "Deconv5 (Conv2DTranspose)    (None, 38, 78, 16)        4624      \n",
      "_________________________________________________________________\n",
      "dropout_9 (Dropout)          (None, 38, 78, 16)        0         \n",
      "_________________________________________________________________\n",
      "up_sampling2d_2 (UpSampling2 (None, 76, 156, 16)       0         \n",
      "_________________________________________________________________\n",
      "Deconv6 (Conv2DTranspose)    (None, 78, 158, 16)       2320      \n",
      "_________________________________________________________________\n",
      "Final (Conv2DTranspose)      (None, 80, 160, 1)        145       \n",
      "=================================================================\n",
      "Total params: 181,681\n",
      "Trainable params: 181,681\n",
      "Non-trainable params: 0\n",
      "_________________________________________________________________\n"
     ]
    }
   ],
   "source": [
    "lane_model = load_model('NEW_full_CNN_model.h5')\n",
    "model_insize = lane_model.input_shape\n",
    "print('model input shape:', model_insize)\n",
    "# --------------------------\n",
    "lane_model.summary()\n",
    "\n",
    "#tf.keras.utils.plot_model(model, to_file=dot_img_file, show_shapes=True)"
   ]
  },
  {
   "cell_type": "markdown",
   "id": "insured-transcript",
   "metadata": {},
   "source": [
    "First, lets **FREEZE ALL the parameters from this model**. We can type `lane_model.summary()` and verify that the number of trainable parameters is equal to zero at this point."
   ]
  },
  {
   "cell_type": "code",
   "execution_count": 11,
   "id": "tight-township",
   "metadata": {},
   "outputs": [],
   "source": [
    "lane_model.trainable = False"
   ]
  },
  {
   "cell_type": "markdown",
   "id": "premier-contents",
   "metadata": {},
   "source": [
    "#### Adding classification layers to the model\n",
    "To do this we can create a new model, then add the lane_model and create the rest of the architecture for our steering prediction"
   ]
  },
  {
   "cell_type": "code",
   "execution_count": 23,
   "id": "grand-saudi",
   "metadata": {},
   "outputs": [
    {
     "name": "stdout",
     "output_type": "stream",
     "text": [
      "Model: \"sequential_2\"\n",
      "_________________________________________________________________\n",
      "Layer (type)                 Output Shape              Param #   \n",
      "=================================================================\n",
      "sequential (Sequential)      (None, 80, 160, 1)        181681    \n",
      "_________________________________________________________________\n",
      "flatten_2 (Flatten)          (None, 12800)             0         \n",
      "_________________________________________________________________\n",
      "dense_6 (Dense)              (None, 100)               1280100   \n",
      "_________________________________________________________________\n",
      "dense_7 (Dense)              (None, 50)                5050      \n",
      "_________________________________________________________________\n",
      "dense_8 (Dense)              (None, 10)                510       \n",
      "_________________________________________________________________\n",
      "dense_9 (Dense)              (None, 1)                 11        \n",
      "=================================================================\n",
      "Total params: 1,467,352\n",
      "Trainable params: 1,285,671\n",
      "Non-trainable params: 181,681\n",
      "_________________________________________________________________\n"
     ]
    }
   ],
   "source": [
    "steering_model = tf.keras.Sequential([\n",
    "    lane_model,\n",
    "    Flatten(),\n",
    "    Dense(100, activation='elu'),\n",
    "    Dense(50, activation='elu'),\n",
    "    Dense(10, activation='elu'),\n",
    "    Dense(1)\n",
    "])\n",
    "\n",
    "steering_model.summary()"
   ]
  },
  {
   "cell_type": "markdown",
   "id": "expensive-cartoon",
   "metadata": {},
   "source": [
    "Now, lets define the rest of the model parameters and Train our model"
   ]
  },
  {
   "cell_type": "code",
   "execution_count": 24,
   "id": "abstract-valuation",
   "metadata": {},
   "outputs": [],
   "source": [
    "# Model Parameters\n",
    "optimus = tf.keras.optimizers.Adam(lr=1.0e-5)\n",
    "steering_model.compile(optimizer=optimus,\n",
    "                       loss='mean_squared_error')\n",
    "# Tensorflow Callbacks\n",
    "checkpoint_path = 'saved_model/'\n",
    "early_stop = tf.keras.callbacks.EarlyStopping(monitor='val_loss', patience=10)\n",
    "checkpoint = tf.keras.callbacks.ModelCheckpoint(filepath=checkpoint_path+'model-{epoch:03d}.h5',\n",
    "                                 monitor='val_loss',\n",
    "                                 verbose=0,\n",
    "                                 save_best_only=True,\n",
    "                                 mode='auto')\n",
    "\n",
    "batch = 50"
   ]
  },
  {
   "cell_type": "code",
   "execution_count": 25,
   "id": "automatic-rebecca",
   "metadata": {},
   "outputs": [
    {
     "name": "stdout",
     "output_type": "stream",
     "text": [
      "Epoch 1/600\n",
      "5/5 [==============================] - 5s 346ms/step - loss: 0.0549 - val_loss: 0.0577\n",
      "Epoch 2/600\n",
      "5/5 [==============================] - 1s 139ms/step - loss: 0.0436 - val_loss: 0.0462\n",
      "Epoch 3/600\n",
      "5/5 [==============================] - 1s 142ms/step - loss: 0.0283 - val_loss: 0.0371\n",
      "Epoch 4/600\n",
      "5/5 [==============================] - 1s 137ms/step - loss: 0.0241 - val_loss: 0.0305\n",
      "Epoch 5/600\n",
      "5/5 [==============================] - 1s 134ms/step - loss: 0.0218 - val_loss: 0.0261\n",
      "Epoch 6/600\n",
      "5/5 [==============================] - 1s 135ms/step - loss: 0.0159 - val_loss: 0.0232\n",
      "Epoch 7/600\n",
      "5/5 [==============================] - 1s 133ms/step - loss: 0.0146 - val_loss: 0.0215\n",
      "Epoch 8/600\n",
      "5/5 [==============================] - 1s 134ms/step - loss: 0.0129 - val_loss: 0.0204\n",
      "Epoch 9/600\n",
      "5/5 [==============================] - 1s 135ms/step - loss: 0.0133 - val_loss: 0.0192\n",
      "Epoch 10/600\n",
      "5/5 [==============================] - 1s 147ms/step - loss: 0.0118 - val_loss: 0.0184\n",
      "Epoch 11/600\n",
      "5/5 [==============================] - 1s 144ms/step - loss: 0.0124 - val_loss: 0.0178\n",
      "Epoch 12/600\n",
      "5/5 [==============================] - 1s 138ms/step - loss: 0.0104 - val_loss: 0.0172\n",
      "Epoch 13/600\n",
      "5/5 [==============================] - 1s 140ms/step - loss: 0.0103 - val_loss: 0.0166\n",
      "Epoch 14/600\n",
      "5/5 [==============================] - 1s 136ms/step - loss: 0.0101 - val_loss: 0.0160\n",
      "Epoch 15/600\n",
      "5/5 [==============================] - 1s 137ms/step - loss: 0.0117 - val_loss: 0.0154\n",
      "Epoch 16/600\n",
      "5/5 [==============================] - 1s 138ms/step - loss: 0.0126 - val_loss: 0.0151\n",
      "Epoch 17/600\n",
      "5/5 [==============================] - 1s 140ms/step - loss: 0.0094 - val_loss: 0.0150\n",
      "Epoch 18/600\n",
      "5/5 [==============================] - 1s 152ms/step - loss: 0.0090 - val_loss: 0.0147\n",
      "Epoch 19/600\n",
      "5/5 [==============================] - 1s 137ms/step - loss: 0.0095 - val_loss: 0.0142\n",
      "Epoch 20/600\n",
      "5/5 [==============================] - 1s 140ms/step - loss: 0.0113 - val_loss: 0.0141\n",
      "Epoch 21/600\n",
      "5/5 [==============================] - 1s 139ms/step - loss: 0.0089 - val_loss: 0.0138\n",
      "Epoch 22/600\n",
      "5/5 [==============================] - 1s 139ms/step - loss: 0.0089 - val_loss: 0.0135\n",
      "Epoch 23/600\n",
      "5/5 [==============================] - 1s 135ms/step - loss: 0.0100 - val_loss: 0.0132\n",
      "Epoch 24/600\n",
      "5/5 [==============================] - 1s 139ms/step - loss: 0.0088 - val_loss: 0.0130\n",
      "Epoch 25/600\n",
      "5/5 [==============================] - 1s 136ms/step - loss: 0.0108 - val_loss: 0.0129\n",
      "Epoch 26/600\n",
      "5/5 [==============================] - 1s 138ms/step - loss: 0.0138 - val_loss: 0.0129\n",
      "Epoch 27/600\n",
      "5/5 [==============================] - 1s 148ms/step - loss: 0.0115 - val_loss: 0.0129\n",
      "Epoch 28/600\n",
      "5/5 [==============================] - 1s 143ms/step - loss: 0.0094 - val_loss: 0.0129\n",
      "Epoch 29/600\n",
      "5/5 [==============================] - 1s 186ms/step - loss: 0.0100 - val_loss: 0.0128\n",
      "Epoch 30/600\n",
      "5/5 [==============================] - 1s 142ms/step - loss: 0.0109 - val_loss: 0.0130\n",
      "Epoch 31/600\n",
      "5/5 [==============================] - 1s 140ms/step - loss: 0.0102 - val_loss: 0.0132\n",
      "Epoch 32/600\n",
      "5/5 [==============================] - 1s 138ms/step - loss: 0.0092 - val_loss: 0.0131\n",
      "Epoch 33/600\n",
      "5/5 [==============================] - 1s 140ms/step - loss: 0.0110 - val_loss: 0.0131\n",
      "Epoch 34/600\n",
      "5/5 [==============================] - 1s 137ms/step - loss: 0.0086 - val_loss: 0.0130\n",
      "Epoch 35/600\n",
      "5/5 [==============================] - 1s 138ms/step - loss: 0.0091 - val_loss: 0.0130\n",
      "Epoch 36/600\n",
      "5/5 [==============================] - 1s 140ms/step - loss: 0.0088 - val_loss: 0.0129\n",
      "Epoch 37/600\n",
      "5/5 [==============================] - 1s 139ms/step - loss: 0.0078 - val_loss: 0.0130\n",
      "Epoch 38/600\n",
      "5/5 [==============================] - 1s 136ms/step - loss: 0.0111 - val_loss: 0.0130\n",
      "Epoch 39/600\n",
      "5/5 [==============================] - 1s 136ms/step - loss: 0.0080 - val_loss: 0.0126\n",
      "Epoch 40/600\n",
      "5/5 [==============================] - 1s 134ms/step - loss: 0.0079 - val_loss: 0.0119\n",
      "Epoch 41/600\n",
      "5/5 [==============================] - 1s 150ms/step - loss: 0.0094 - val_loss: 0.0115\n",
      "Epoch 42/600\n",
      "5/5 [==============================] - 1s 140ms/step - loss: 0.0092 - val_loss: 0.0113\n",
      "Epoch 43/600\n",
      "5/5 [==============================] - 1s 133ms/step - loss: 0.0081 - val_loss: 0.0115\n",
      "Epoch 44/600\n",
      "5/5 [==============================] - 1s 136ms/step - loss: 0.0094 - val_loss: 0.0118\n",
      "Epoch 45/600\n",
      "5/5 [==============================] - 1s 138ms/step - loss: 0.0120 - val_loss: 0.0120\n",
      "Epoch 46/600\n",
      "5/5 [==============================] - 1s 136ms/step - loss: 0.0105 - val_loss: 0.0124\n",
      "Epoch 47/600\n",
      "5/5 [==============================] - 1s 138ms/step - loss: 0.0102 - val_loss: 0.0130\n",
      "Epoch 48/600\n",
      "5/5 [==============================] - 1s 135ms/step - loss: 0.0095 - val_loss: 0.0132\n",
      "Epoch 49/600\n",
      "5/5 [==============================] - 1s 136ms/step - loss: 0.0092 - val_loss: 0.0129\n",
      "Epoch 50/600\n",
      "5/5 [==============================] - 1s 136ms/step - loss: 0.0096 - val_loss: 0.0124\n",
      "Epoch 51/600\n",
      "5/5 [==============================] - 1s 135ms/step - loss: 0.0089 - val_loss: 0.0122\n",
      "Epoch 52/600\n",
      "5/5 [==============================] - 1s 136ms/step - loss: 0.0094 - val_loss: 0.0125\n"
     ]
    }
   ],
   "source": [
    "history_1 = steering_model.fit(X_train, y_train, epochs=600, batch_size=50, validation_data=(X_val, y_val), callbacks = [early_stop, checkpoint])"
   ]
  },
  {
   "cell_type": "code",
   "execution_count": 28,
   "id": "thorough-strike",
   "metadata": {},
   "outputs": [],
   "source": [
    "steering_model.save('steering_tf_lanes_model.h5')"
   ]
  },
  {
   "cell_type": "markdown",
   "id": "historical-celebration",
   "metadata": {},
   "source": [
    "## Model Results\n"
   ]
  },
  {
   "cell_type": "code",
   "execution_count": 26,
   "id": "invisible-arbor",
   "metadata": {},
   "outputs": [
    {
     "data": {
      "text/plain": [
       "<matplotlib.legend.Legend at 0x2041f3cf1c8>"
      ]
     },
     "execution_count": 26,
     "metadata": {},
     "output_type": "execute_result"
    },
    {
     "data": {
      "image/png": "[encoded data removed]",
      "text/plain": [
       "<Figure size 432x288 with 1 Axes>"
      ]
     },
     "metadata": {
      "needs_background": "light"
     },
     "output_type": "display_data"
    }
   ],
   "source": [
    "# acc_2 = history_2.history['accuracy']\n",
    "# val_acc_2 = history_2.history['val_accuracy']\n",
    "loss = history_1.history['loss']\n",
    "val_loss = history_1.history['val_loss']\n",
    "epochs = range(len(loss))\n",
    "\n",
    "plt.figure()\n",
    "plt.title('Training and validation loss')\n",
    "plt.plot(epochs, loss, color='blue', label='training')\n",
    "plt.plot(epochs, val_loss, color='orange', label='validation')\n",
    "plt.xlabel('Epoch')\n",
    "plt.ylabel('loss')\n",
    "plt.legend()"
   ]
  },
  {
   "cell_type": "code",
   "execution_count": 27,
   "id": "automotive-samoa",
   "metadata": {},
   "outputs": [
    {
     "name": "stderr",
     "output_type": "stream",
     "text": [
      "C:\\Users\\kevin\\Anaconda3\\lib\\site-packages\\ipykernel_launcher.py:15: UserWarning: Matplotlib is currently using module://ipykernel.pylab.backend_inline, which is a non-GUI backend, so cannot show the figure.\n",
      "  from ipykernel import kernelapp as app\n"
     ]
    },
    {
     "data": {
      "image/png": "[encoded data removed]",
      "text/plain": [
       "<Figure size 1080x216 with 1 Axes>"
      ]
     },
     "metadata": {
      "needs_background": "light"
     },
     "output_type": "display_data"
    }
   ],
   "source": [
    "plot_steering(re_scale(steering_model.predict(X), mi, ma))"
   ]
  },
  {
   "cell_type": "markdown",
   "id": "terminal-raleigh",
   "metadata": {},
   "source": [
    "## Model Implementation\n",
    "\n",
    "The first step for implementing this model in the Carla Simulator is to load the model"
   ]
  },
  {
   "cell_type": "code",
   "execution_count": 1,
   "id": "quality-intermediate",
   "metadata": {},
   "outputs": [
    {
     "ename": "NameError",
     "evalue": "name 'tf' is not defined",
     "output_type": "error",
     "traceback": [
      "\u001b[1;31m---------------------------------------------------------------------------\u001b[0m",
      "\u001b[1;31mNameError\u001b[0m                                 Traceback (most recent call last)",
      "\u001b[1;32m<ipython-input-1-5f1e346f1f05>\u001b[0m in \u001b[0;36m<module>\u001b[1;34m\u001b[0m\n\u001b[0;32m      1\u001b[0m \u001b[0mmodel_path\u001b[0m \u001b[1;33m=\u001b[0m \u001b[1;34m'saved_model/model-008-0.01.h5'\u001b[0m\u001b[1;33m\u001b[0m\u001b[1;33m\u001b[0m\u001b[0m\n\u001b[1;32m----> 2\u001b[1;33m \u001b[0mnvidia_steering_model\u001b[0m \u001b[1;33m=\u001b[0m \u001b[0mtf\u001b[0m\u001b[1;33m.\u001b[0m\u001b[0mkeras\u001b[0m\u001b[1;33m.\u001b[0m\u001b[0mmodels\u001b[0m\u001b[1;33m.\u001b[0m\u001b[0mload_model\u001b[0m\u001b[1;33m(\u001b[0m\u001b[0mmodel_path\u001b[0m\u001b[1;33m)\u001b[0m\u001b[1;33m\u001b[0m\u001b[1;33m\u001b[0m\u001b[0m\n\u001b[0m",
      "\u001b[1;31mNameError\u001b[0m: name 'tf' is not defined"
     ]
    }
   ],
   "source": [
    "model_path = 'saved_model/model-008-0.01.h5'\n",
    "nvidia_steering_model = tf.keras.models.load_model(model_path)"
   ]
  }
 ],
 "metadata": {
  "kernelspec": {
   "display_name": "Python 3",
   "language": "python",
   "name": "python3"
  },
  "language_info": {
   "codemirror_mode": {
    "name": "ipython",
    "version": 3
   },
   "file_extension": ".py",
   "mimetype": "text/x-python",
   "name": "python",
   "nbconvert_exporter": "python",
   "pygments_lexer": "ipython3",
   "version": "3.7.6"
  }
 },
 "nbformat": 4,
 "nbformat_minor": 5
}
