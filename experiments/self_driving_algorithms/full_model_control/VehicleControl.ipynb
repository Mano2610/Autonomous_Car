{
  "nbformat": 4,
  "nbformat_minor": 0,
  "metadata": {
    "colab": {
      "name": "VehicleControl.ipynb",
      "provenance": [],
      "collapsed_sections": []
    },
    "kernelspec": {
      "name": "python3",
      "display_name": "Python 3"
    },
    "language_info": {
      "name": "python"
    },
    "accelerator": "GPU"
  },
  "cells": [
    {
      "cell_type": "code",
      "metadata": {
        "id": "M1F4eyIMJQv1"
      },
      "source": [
        "import os\n",
        "import random\n",
        "\n",
        "import matplotlib.pyplot as plt\n",
        "import pandas as pd\n",
        "import numpy as np\n",
        "import tensorflow as tf\n",
        "import cv2\n",
        "\n",
        "from tqdm import tqdm\n",
        "from tensorflow.keras import Model\n",
        "from tensorflow.keras.callbacks import EarlyStopping, ModelCheckpoint\n",
        "from tensorflow.keras.layers import Conv2D, Dropout, Dense, Flatten, Input\n",
        "from tensorflow.keras.models import load_model\n",
        "from tensorflow.keras.optimizers import Adam\n",
        "\n",
        "from sklearn.model_selection import train_test_split"
      ],
      "execution_count": null,
      "outputs": []
    },
    {
      "cell_type": "code",
      "metadata": {
        "colab": {
          "base_uri": "https://localhost:8080/"
        },
        "id": "Dr8bzqqqIt9S",
        "outputId": "42f6d318-9b7b-4f33-d271-3c84f25a856e"
      },
      "source": [
        "# Mount Google Drive\n",
        "from google.colab import drive\n",
        "drive.mount('/content/drive/', force_remount=True)"
      ],
      "execution_count": null,
      "outputs": [
        {
          "output_type": "stream",
          "text": [
            "Mounted at /content/drive/\n"
          ],
          "name": "stdout"
        }
      ]
    },
    {
      "cell_type": "code",
      "metadata": {
        "colab": {
          "base_uri": "https://localhost:8080/",
          "height": 35
        },
        "id": "ArhUG2TqI01C",
        "outputId": "a01c5dd8-88ae-4b71-c718-8a9dd1d53ed5"
      },
      "source": [
        "# Make sure GPU is enabled\n",
        "tf.test.gpu_device_name()"
      ],
      "execution_count": null,
      "outputs": [
        {
          "output_type": "execute_result",
          "data": {
            "application/vnd.google.colaboratory.intrinsic+json": {
              "type": "string"
            },
            "text/plain": [
              "'/device:GPU:0'"
            ]
          },
          "metadata": {
            "tags": []
          },
          "execution_count": 3
        }
      ]
    },
    {
      "cell_type": "code",
      "metadata": {
        "id": "qpdEjyt6R1rr"
      },
      "source": [
        "DIMS = (160,80)\n",
        "EPOCHS = 200\n",
        "BATCH_SIZE = 32\n",
        "LEARNING_RATE = 1e-4\n",
        "IMG_DIR = 'data/'\n",
        "SAVE_DIR = 'saved_models/'"
      ],
      "execution_count": null,
      "outputs": []
    },
    {
      "cell_type": "code",
      "metadata": {
        "colab": {
          "base_uri": "https://localhost:8080/"
        },
        "id": "P0QQe0e-I3ju",
        "outputId": "6a5b0318-764d-41e6-e448-2cdbebb856a6"
      },
      "source": [
        "# UPDATE PATH HERE\n",
        "%cd /content/drive/MyDrive/8voSemestre/CE903/lane_detection/"
      ],
      "execution_count": null,
      "outputs": [
        {
          "output_type": "stream",
          "text": [
            "/content/drive/MyDrive/8voSemestre/CE903/lane_detection\n"
          ],
          "name": "stdout"
        }
      ]
    },
    {
      "cell_type": "code",
      "metadata": {
        "colab": {
          "base_uri": "https://localhost:8080/",
          "height": 204
        },
        "id": "rL7nuHV5I348",
        "outputId": "c9c90724-c131-46d6-95f4-653c7e190ca0"
      },
      "source": [
        "df = pd.read_csv('_controls.csv')\n",
        "df.head()"
      ],
      "execution_count": null,
      "outputs": [
        {
          "output_type": "execute_result",
          "data": {
            "text/html": [
              "<div>\n",
              "<style scoped>\n",
              "    .dataframe tbody tr th:only-of-type {\n",
              "        vertical-align: middle;\n",
              "    }\n",
              "\n",
              "    .dataframe tbody tr th {\n",
              "        vertical-align: top;\n",
              "    }\n",
              "\n",
              "    .dataframe thead th {\n",
              "        text-align: right;\n",
              "    }\n",
              "</style>\n",
              "<table border=\"1\" class=\"dataframe\">\n",
              "  <thead>\n",
              "    <tr style=\"text-align: right;\">\n",
              "      <th></th>\n",
              "      <th>id</th>\n",
              "      <th>steer</th>\n",
              "      <th>throttle</th>\n",
              "      <th>brake</th>\n",
              "    </tr>\n",
              "  </thead>\n",
              "  <tbody>\n",
              "    <tr>\n",
              "      <th>0</th>\n",
              "      <td>1</td>\n",
              "      <td>0.000627</td>\n",
              "      <td>0.379371</td>\n",
              "      <td>0.0</td>\n",
              "    </tr>\n",
              "    <tr>\n",
              "      <th>1</th>\n",
              "      <td>2</td>\n",
              "      <td>-0.037645</td>\n",
              "      <td>0.700000</td>\n",
              "      <td>0.0</td>\n",
              "    </tr>\n",
              "    <tr>\n",
              "      <th>2</th>\n",
              "      <td>3</td>\n",
              "      <td>-0.055207</td>\n",
              "      <td>0.700000</td>\n",
              "      <td>0.0</td>\n",
              "    </tr>\n",
              "    <tr>\n",
              "      <th>3</th>\n",
              "      <td>4</td>\n",
              "      <td>-0.001549</td>\n",
              "      <td>0.634152</td>\n",
              "      <td>0.0</td>\n",
              "    </tr>\n",
              "    <tr>\n",
              "      <th>4</th>\n",
              "      <td>5</td>\n",
              "      <td>-0.000116</td>\n",
              "      <td>0.648871</td>\n",
              "      <td>0.0</td>\n",
              "    </tr>\n",
              "  </tbody>\n",
              "</table>\n",
              "</div>"
            ],
            "text/plain": [
              "   id     steer  throttle  brake\n",
              "0   1  0.000627  0.379371    0.0\n",
              "1   2 -0.037645  0.700000    0.0\n",
              "2   3 -0.055207  0.700000    0.0\n",
              "3   4 -0.001549  0.634152    0.0\n",
              "4   5 -0.000116  0.648871    0.0"
            ]
          },
          "metadata": {
            "tags": []
          },
          "execution_count": 6
        }
      ]
    },
    {
      "cell_type": "code",
      "metadata": {
        "id": "f4xVDX33YLxl"
      },
      "source": [
        "lane_detector = load_model('full_CNN_model.h5')"
      ],
      "execution_count": null,
      "outputs": []
    },
    {
      "cell_type": "code",
      "metadata": {
        "colab": {
          "base_uri": "https://localhost:8080/"
        },
        "id": "QxG-ZZ-LKzrr",
        "outputId": "2548e073-7317-4e2b-8625-9f637ffd5f15"
      },
      "source": [
        "X = []\n",
        "y = []\n",
        "\n",
        "for file in tqdm(os.listdir(IMG_DIR)):\n",
        "  id = int(file.split('.')[0])\n",
        "  img = cv2.imread(IMG_DIR + file)\n",
        "\n",
        "  # Prepare image for lane detection model\n",
        "  img = cv2.resize(img, DIMS)\n",
        "  img = np.array(img)\n",
        "  img = img[None,:,:,:]\n",
        "\n",
        "  # Generate lane mask and concatenate to original\n",
        "  lane = lane_detector.predict(img)[0] * 255\n",
        "  enhanced_img = np.concatenate((img[0], lane), axis=2)\n",
        "\n",
        "  # Add image and labels to training data\n",
        "  X.append(enhanced_img)\n",
        "  y.append(df[df['id']==id].drop(columns=['id']).to_numpy()[0])\n",
        "\n",
        "X = np.array(X)\n",
        "y = np.array(y)"
      ],
      "execution_count": null,
      "outputs": [
        {
          "output_type": "stream",
          "text": [
            "100%|██████████| 999/999 [01:26<00:00, 11.54it/s]\n"
          ],
          "name": "stderr"
        }
      ]
    },
    {
      "cell_type": "code",
      "metadata": {
        "id": "Jf0mCXrfP3UD"
      },
      "source": [
        "X_train, X_test, y_train, y_test = train_test_split(X, y, test_size=0.30)"
      ],
      "execution_count": null,
      "outputs": []
    },
    {
      "cell_type": "code",
      "metadata": {
        "colab": {
          "base_uri": "https://localhost:8080/"
        },
        "id": "mqq8k-iURbQ0",
        "outputId": "66090561-1b9b-49f6-9acf-9492782dc027"
      },
      "source": [
        "inputs = Input(shape=DIMS[::-1]+(4,))\n",
        "x = Conv2D(16, 9, strides=(4,4), activation='relu', padding='same')(inputs)\n",
        "x = Conv2D(32, 5, strides=(2,2), activation='relu', padding='same')(x)\n",
        "x = Conv2D(64, 5, strides=(2,2), activation='relu', padding='same')(x)\n",
        "x = Flatten()(x)\n",
        "x = Dropout(0.2)(x)\n",
        "x = Dense(512, activation='relu')(x)\n",
        "x = Dropout(0.5)(x)\n",
        "outputs = Dense(3)(x)\n",
        "\n",
        "model = Model(inputs, outputs, name='car_control')\n",
        "model.compile(optimizer=Adam(lr=LEARNING_RATE),\n",
        "              loss=\"mse\")\n",
        "\n",
        "model.summary()"
      ],
      "execution_count": null,
      "outputs": [
        {
          "output_type": "stream",
          "text": [
            "Model: \"car_control\"\n",
            "_________________________________________________________________\n",
            "Layer (type)                 Output Shape              Param #   \n",
            "=================================================================\n",
            "input_3 (InputLayer)         [(None, 80, 160, 4)]      0         \n",
            "_________________________________________________________________\n",
            "conv2d_6 (Conv2D)            (None, 20, 40, 16)        5200      \n",
            "_________________________________________________________________\n",
            "conv2d_7 (Conv2D)            (None, 10, 20, 32)        12832     \n",
            "_________________________________________________________________\n",
            "conv2d_8 (Conv2D)            (None, 5, 10, 64)         51264     \n",
            "_________________________________________________________________\n",
            "flatten_2 (Flatten)          (None, 3200)              0         \n",
            "_________________________________________________________________\n",
            "dropout_4 (Dropout)          (None, 3200)              0         \n",
            "_________________________________________________________________\n",
            "dense_4 (Dense)              (None, 512)               1638912   \n",
            "_________________________________________________________________\n",
            "dropout_5 (Dropout)          (None, 512)               0         \n",
            "_________________________________________________________________\n",
            "dense_5 (Dense)              (None, 3)                 1539      \n",
            "=================================================================\n",
            "Total params: 1,709,747\n",
            "Trainable params: 1,709,747\n",
            "Non-trainable params: 0\n",
            "_________________________________________________________________\n"
          ],
          "name": "stdout"
        }
      ]
    },
    {
      "cell_type": "code",
      "metadata": {
        "colab": {
          "base_uri": "https://localhost:8080/"
        },
        "id": "x_8sJYfziYHR",
        "outputId": "2d002894-925a-4587-dded-cc3a2a31c4d7"
      },
      "source": [
        "early_stopping = EarlyStopping(monitor='val_loss',\n",
        "                               restore_best_weights=True,\n",
        "                               patience=5)\n",
        "  \n",
        "checkpoint = ModelCheckpoint(SAVE_DIR+model.name)\n",
        "\n",
        "history = model.fit(X_train, y_train,\n",
        "                    epochs=EPOCHS,\n",
        "                    batch_size=BATCH_SIZE,\n",
        "                    validation_data=(X_test, y_test),\n",
        "                    callbacks = [early_stopping, checkpoint])"
      ],
      "execution_count": null,
      "outputs": [
        {
          "output_type": "stream",
          "text": [
            "Epoch 1/100\n",
            "22/22 [==============================] - 0s 17ms/step - loss: 0.0479 - val_loss: 0.0412\n",
            "INFO:tensorflow:Assets written to: saved_models/car_control/assets\n",
            "Epoch 2/100\n",
            "22/22 [==============================] - 0s 15ms/step - loss: 0.0493 - val_loss: 0.0435\n",
            "INFO:tensorflow:Assets written to: saved_models/car_control/assets\n",
            "Epoch 3/100\n",
            "22/22 [==============================] - 0s 15ms/step - loss: 0.0509 - val_loss: 0.0402\n",
            "INFO:tensorflow:Assets written to: saved_models/car_control/assets\n",
            "Epoch 4/100\n",
            "22/22 [==============================] - 0s 15ms/step - loss: 0.0488 - val_loss: 0.0434\n",
            "INFO:tensorflow:Assets written to: saved_models/car_control/assets\n",
            "Epoch 5/100\n",
            "22/22 [==============================] - 0s 14ms/step - loss: 0.0491 - val_loss: 0.0420\n",
            "INFO:tensorflow:Assets written to: saved_models/car_control/assets\n",
            "Epoch 6/100\n",
            "22/22 [==============================] - 0s 15ms/step - loss: 0.0467 - val_loss: 0.0448\n",
            "INFO:tensorflow:Assets written to: saved_models/car_control/assets\n",
            "Epoch 7/100\n",
            "22/22 [==============================] - 0s 15ms/step - loss: 0.0510 - val_loss: 0.0399\n",
            "INFO:tensorflow:Assets written to: saved_models/car_control/assets\n",
            "Epoch 8/100\n",
            "22/22 [==============================] - 0s 15ms/step - loss: 0.0491 - val_loss: 0.0413\n",
            "INFO:tensorflow:Assets written to: saved_models/car_control/assets\n",
            "Epoch 9/100\n",
            "22/22 [==============================] - 0s 14ms/step - loss: 0.0477 - val_loss: 0.0393\n",
            "INFO:tensorflow:Assets written to: saved_models/car_control/assets\n",
            "Epoch 10/100\n",
            "22/22 [==============================] - 0s 14ms/step - loss: 0.0470 - val_loss: 0.0408\n",
            "INFO:tensorflow:Assets written to: saved_models/car_control/assets\n",
            "Epoch 11/100\n",
            "22/22 [==============================] - 0s 14ms/step - loss: 0.0491 - val_loss: 0.0409\n",
            "INFO:tensorflow:Assets written to: saved_models/car_control/assets\n",
            "Epoch 12/100\n",
            "22/22 [==============================] - 0s 14ms/step - loss: 0.0463 - val_loss: 0.0414\n",
            "INFO:tensorflow:Assets written to: saved_models/car_control/assets\n",
            "Epoch 13/100\n",
            "22/22 [==============================] - 0s 15ms/step - loss: 0.0453 - val_loss: 0.0411\n",
            "INFO:tensorflow:Assets written to: saved_models/car_control/assets\n",
            "Epoch 14/100\n",
            "22/22 [==============================] - 0s 14ms/step - loss: 0.0469 - val_loss: 0.0408\n",
            "INFO:tensorflow:Assets written to: saved_models/car_control/assets\n"
          ],
          "name": "stdout"
        }
      ]
    }
  ]
}